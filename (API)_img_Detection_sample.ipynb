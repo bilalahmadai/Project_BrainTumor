{
 "cells": [
  {
   "cell_type": "code",
   "execution_count": 8,
   "id": "96723104",
   "metadata": {},
   "outputs": [
    {
     "name": "stdout",
     "output_type": "stream",
     "text": [
      "Model loaded\n"
     ]
    }
   ],
   "source": [
    "import tensorflow as tf\n",
    "\n",
    "def load_model():\n",
    "    model = tf.keras.models.load_model(\"model_saved.h5\")\n",
    "    print(\"Model loaded\")\n",
    "    return model\n",
    "\n",
    "model = load_model()"
   ]
  },
  {
   "cell_type": "code",
   "execution_count": 5,
   "id": "b77e7f14",
   "metadata": {},
   "outputs": [],
   "source": [
    "from PIL import Image\n",
    "from io import BytesIO\n",
    "\n",
    "def read_imagefile(file) -> Image.Image:\n",
    "    buffer = BytesIO(file)\n",
    "    target_image= Image.open(buffer)\n",
    "    target_image.save(buffer, format='JPEG', quality=75)\n",
    "#     desiredObject = buffer.getbuffer()\n",
    "    buffer.seek(0)\n",
    "#     desiredObject = buffer.getvalue()\n",
    "#     return desiredObject\n",
    "    return buffer"
   ]
  },
  {
   "cell_type": "code",
   "execution_count": 22,
   "id": "60f9e529",
   "metadata": {},
   "outputs": [
    {
     "name": "stdout",
     "output_type": "stream",
     "text": [
      "1/1 [==============================] - 0s 59ms/step\n"
     ]
    },
    {
     "data": {
      "text/plain": [
       "array([[0., 0., 1., 0., 0., 0., 0., 0., 0., 0.]], dtype=float32)"
      ]
     },
     "execution_count": 22,
     "metadata": {},
     "output_type": "execute_result"
    }
   ],
   "source": [
    "import numpy as np\n",
    "from tensorflow.keras.preprocessing import image\n",
    "\n",
    "from tensorflow.keras.applications.imagenet_utils import decode_predictions\n",
    "\n",
    "def predict(desiredObject: Image.Image):\n",
    "\n",
    "    test_image=image.load_img(desiredObject,\n",
    "                         target_size = (28,28))\n",
    "    test_image=image.img_to_array(test_image)\n",
    "    test_image=np.expand_dims(test_image, axis=0)\n",
    "    \n",
    "    \n",
    "    result=model.predict(test_image)\n",
    "\n",
    "#     print(result)                     \n",
    "                              \n",
    "    n=np.where(result==1.0)\n",
    "    print('Detected number :',n[1][0])\n",
    "#     print(target_image)\n",
    "    print(n)\n",
    "    prediction_is=n[1][0]\n",
    "    return str(prediction_is)\n",
    "\n",
    "   \n",
    "predict(\"D:\\\\# DEEP Learning\\\\CNN\\\\test\\\\2.jpg\")\n",
    "                              \n",
    "# p=predict(\"D:\\\\# DEEP Learning\\\\CNN\\\\test\\\\1.jpg\")\n",
    "# type(p)\n",
    "# # type(str(p))"
   ]
  },
  {
   "cell_type": "code",
   "execution_count": 4,
   "id": "20c6f5fc",
   "metadata": {},
   "outputs": [],
   "source": [
    "# from PIL import Image\n",
    "# from io import BytesIO\n",
    "\n",
    "# def read_imagefile(file) -> Image.Image:\n",
    "#     target_image= Image.open(BytesIO(file))\n",
    "#     target_image.save(buffer, format='JPEG', quality=75)\n",
    "#     return target_image"
   ]
  },
  {
   "cell_type": "code",
   "execution_count": null,
   "id": "5d4ec523",
   "metadata": {},
   "outputs": [],
   "source": []
  },
  {
   "cell_type": "code",
   "execution_count": 5,
   "id": "5b543a97",
   "metadata": {},
   "outputs": [],
   "source": [
    "# from PIL import Image\n",
    "# from io import BytesIO\n",
    "# Import StringIO\n",
    "\n",
    "# def read_imagefile(file) -> Image.Image:\n",
    "#     target_image= Image.open(BytesIO(file))\n",
    "#     return target_image\n",
    "\n",
    "\n",
    "# from PIL import Image\n",
    "# from io import BytesIO,StringIO\n",
    "\n",
    "# def read_imagefile(file) -> Image.Image:\n",
    "#     buffer = StringIO(file)\n",
    "    \n",
    "    \n",
    "#     target_image= Image.open(buffer)\n",
    "#     target_image.save(buffer,'JPEG')\n",
    "#     desiredObject = buffer.getbuffer()\n",
    "# #     desiredObject = buffer.getvalue()\n",
    "#     return desiredObject"
   ]
  },
  {
   "cell_type": "code",
   "execution_count": 6,
   "id": "8276f2f1",
   "metadata": {},
   "outputs": [],
   "source": [
    "# Import StringIO\n",
    "\n",
    "# def get_resize_img(img_file):\n",
    "#     buffer = StringIO.StringIO()\n",
    "#     img = Image.open(img_file)\n",
    "#     img = img.resize((640,960), Image.NEAREST)\n",
    "#     format = \"YOUR_FORMAT\" // JPG,PNG,etc.\n",
    "#     img.save(buffer,format)\n",
    "#     return buffer.getvalue()"
   ]
  },
  {
   "cell_type": "code",
   "execution_count": null,
   "id": "b0fff1d5",
   "metadata": {},
   "outputs": [],
   "source": []
  },
  {
   "cell_type": "code",
   "execution_count": null,
   "id": "f42e5f2a",
   "metadata": {},
   "outputs": [],
   "source": []
  },
  {
   "cell_type": "code",
   "execution_count": null,
   "id": "10d46cff",
   "metadata": {},
   "outputs": [],
   "source": []
  },
  {
   "cell_type": "code",
   "execution_count": null,
   "id": "df5c7f10",
   "metadata": {},
   "outputs": [],
   "source": []
  },
  {
   "cell_type": "code",
   "execution_count": null,
   "id": "5065357e",
   "metadata": {},
   "outputs": [
    {
     "name": "stderr",
     "output_type": "stream",
     "text": [
      "INFO:     Started server process [15580]\n",
      "INFO:     Waiting for application startup.\n",
      "INFO:     Application startup complete.\n",
      "INFO:     Uvicorn running on http://127.0.0.1:8000 (Press CTRL+C to quit)\n"
     ]
    },
    {
     "name": "stdout",
     "output_type": "stream",
     "text": [
      "INFO:     127.0.0.1:60111 - \"GET / HTTP/1.1\" 404 Not Found\n",
      "INFO:     127.0.0.1:60111 - \"GET /docs HTTP/1.1\" 200 OK\n",
      "INFO:     127.0.0.1:60111 - \"GET /openapi.json HTTP/1.1\" 200 OK\n",
      "INFO:     127.0.0.1:60110 - \"POST /predicti HTTP/1.1\" 500 Internal Server Error\n"
     ]
    },
    {
     "name": "stderr",
     "output_type": "stream",
     "text": [
      "ERROR:    Exception in ASGI application\n",
      "Traceback (most recent call last):\n",
      "  File \"C:\\Python\\lib\\site-packages\\uvicorn\\protocols\\http\\h11_impl.py\", line 404, in run_asgi\n",
      "    result = await app(  # type: ignore[func-returns-value]\n",
      "  File \"C:\\Python\\lib\\site-packages\\uvicorn\\middleware\\proxy_headers.py\", line 78, in __call__\n",
      "    return await self.app(scope, receive, send)\n",
      "  File \"C:\\Python\\lib\\site-packages\\fastapi\\applications.py\", line 269, in __call__\n",
      "    await super().__call__(scope, receive, send)\n",
      "  File \"C:\\Python\\lib\\site-packages\\starlette\\applications.py\", line 124, in __call__\n",
      "    await self.middleware_stack(scope, receive, send)\n",
      "  File \"C:\\Python\\lib\\site-packages\\starlette\\middleware\\errors.py\", line 184, in __call__\n",
      "    raise exc\n",
      "  File \"C:\\Python\\lib\\site-packages\\starlette\\middleware\\errors.py\", line 162, in __call__\n",
      "    await self.app(scope, receive, _send)\n",
      "  File \"C:\\Python\\lib\\site-packages\\starlette\\exceptions.py\", line 93, in __call__\n",
      "    raise exc\n",
      "  File \"C:\\Python\\lib\\site-packages\\starlette\\exceptions.py\", line 82, in __call__\n",
      "    await self.app(scope, receive, sender)\n",
      "  File \"C:\\Python\\lib\\site-packages\\fastapi\\middleware\\asyncexitstack.py\", line 21, in __call__\n",
      "    raise e\n",
      "  File \"C:\\Python\\lib\\site-packages\\fastapi\\middleware\\asyncexitstack.py\", line 18, in __call__\n",
      "    await self.app(scope, receive, send)\n",
      "  File \"C:\\Python\\lib\\site-packages\\starlette\\routing.py\", line 670, in __call__\n",
      "    await route.handle(scope, receive, send)\n",
      "  File \"C:\\Python\\lib\\site-packages\\starlette\\routing.py\", line 266, in handle\n",
      "    await self.app(scope, receive, send)\n",
      "  File \"C:\\Python\\lib\\site-packages\\starlette\\routing.py\", line 65, in app\n",
      "    response = await func(request)\n",
      "  File \"C:\\Python\\lib\\site-packages\\fastapi\\routing.py\", line 231, in app\n",
      "    raw_response = await run_endpoint_function(\n",
      "  File \"C:\\Python\\lib\\site-packages\\fastapi\\routing.py\", line 160, in run_endpoint_function\n",
      "    return await dependant.call(**values)\n",
      "  File \"C:\\Users\\Bilal Ansar\\AppData\\Local\\Temp\\ipykernel_15580\\3422742155.py\", line 15, in predict_api\n",
      "    prediction = predict(image)\n",
      "  File \"C:\\Users\\Bilal Ansar\\AppData\\Local\\Temp\\ipykernel_15580\\1783093065.py\", line 2, in predict\n",
      "    img = cv.imread(img)\n",
      "TypeError: Can't convert object to 'str' for 'filename'\n"
     ]
    },
    {
     "name": "stdout",
     "output_type": "stream",
     "text": [
      "INFO:     127.0.0.1:60118 - \"POST /predicti HTTP/1.1\" 500 Internal Server Error\n"
     ]
    },
    {
     "name": "stderr",
     "output_type": "stream",
     "text": [
      "ERROR:    Exception in ASGI application\n",
      "Traceback (most recent call last):\n",
      "  File \"C:\\Python\\lib\\site-packages\\uvicorn\\protocols\\http\\h11_impl.py\", line 404, in run_asgi\n",
      "    result = await app(  # type: ignore[func-returns-value]\n",
      "  File \"C:\\Python\\lib\\site-packages\\uvicorn\\middleware\\proxy_headers.py\", line 78, in __call__\n",
      "    return await self.app(scope, receive, send)\n",
      "  File \"C:\\Python\\lib\\site-packages\\fastapi\\applications.py\", line 269, in __call__\n",
      "    await super().__call__(scope, receive, send)\n",
      "  File \"C:\\Python\\lib\\site-packages\\starlette\\applications.py\", line 124, in __call__\n",
      "    await self.middleware_stack(scope, receive, send)\n",
      "  File \"C:\\Python\\lib\\site-packages\\starlette\\middleware\\errors.py\", line 184, in __call__\n",
      "    raise exc\n",
      "  File \"C:\\Python\\lib\\site-packages\\starlette\\middleware\\errors.py\", line 162, in __call__\n",
      "    await self.app(scope, receive, _send)\n",
      "  File \"C:\\Python\\lib\\site-packages\\starlette\\exceptions.py\", line 93, in __call__\n",
      "    raise exc\n",
      "  File \"C:\\Python\\lib\\site-packages\\starlette\\exceptions.py\", line 82, in __call__\n",
      "    await self.app(scope, receive, sender)\n",
      "  File \"C:\\Python\\lib\\site-packages\\fastapi\\middleware\\asyncexitstack.py\", line 21, in __call__\n",
      "    raise e\n",
      "  File \"C:\\Python\\lib\\site-packages\\fastapi\\middleware\\asyncexitstack.py\", line 18, in __call__\n",
      "    await self.app(scope, receive, send)\n",
      "  File \"C:\\Python\\lib\\site-packages\\starlette\\routing.py\", line 670, in __call__\n",
      "    await route.handle(scope, receive, send)\n",
      "  File \"C:\\Python\\lib\\site-packages\\starlette\\routing.py\", line 266, in handle\n",
      "    await self.app(scope, receive, send)\n",
      "  File \"C:\\Python\\lib\\site-packages\\starlette\\routing.py\", line 65, in app\n",
      "    response = await func(request)\n",
      "  File \"C:\\Python\\lib\\site-packages\\fastapi\\routing.py\", line 231, in app\n",
      "    raw_response = await run_endpoint_function(\n",
      "  File \"C:\\Python\\lib\\site-packages\\fastapi\\routing.py\", line 160, in run_endpoint_function\n",
      "    return await dependant.call(**values)\n",
      "  File \"C:\\Users\\Bilal Ansar\\AppData\\Local\\Temp\\ipykernel_15580\\3422742155.py\", line 15, in predict_api\n",
      "    prediction = predict(image)\n",
      "  File \"C:\\Users\\Bilal Ansar\\AppData\\Local\\Temp\\ipykernel_15580\\1783093065.py\", line 2, in predict\n",
      "    img = cv.imread(img)\n",
      "TypeError: Can't convert object to 'str' for 'filename'\n"
     ]
    },
    {
     "name": "stdout",
     "output_type": "stream",
     "text": [
      "INFO:     127.0.0.1:60127 - \"POST /predicti HTTP/1.1\" 500 Internal Server Error\n"
     ]
    },
    {
     "name": "stderr",
     "output_type": "stream",
     "text": [
      "ERROR:    Exception in ASGI application\n",
      "Traceback (most recent call last):\n",
      "  File \"C:\\Python\\lib\\site-packages\\uvicorn\\protocols\\http\\h11_impl.py\", line 404, in run_asgi\n",
      "    result = await app(  # type: ignore[func-returns-value]\n",
      "  File \"C:\\Python\\lib\\site-packages\\uvicorn\\middleware\\proxy_headers.py\", line 78, in __call__\n",
      "    return await self.app(scope, receive, send)\n",
      "  File \"C:\\Python\\lib\\site-packages\\fastapi\\applications.py\", line 269, in __call__\n",
      "    await super().__call__(scope, receive, send)\n",
      "  File \"C:\\Python\\lib\\site-packages\\starlette\\applications.py\", line 124, in __call__\n",
      "    await self.middleware_stack(scope, receive, send)\n",
      "  File \"C:\\Python\\lib\\site-packages\\starlette\\middleware\\errors.py\", line 184, in __call__\n",
      "    raise exc\n",
      "  File \"C:\\Python\\lib\\site-packages\\starlette\\middleware\\errors.py\", line 162, in __call__\n",
      "    await self.app(scope, receive, _send)\n",
      "  File \"C:\\Python\\lib\\site-packages\\starlette\\exceptions.py\", line 93, in __call__\n",
      "    raise exc\n",
      "  File \"C:\\Python\\lib\\site-packages\\starlette\\exceptions.py\", line 82, in __call__\n",
      "    await self.app(scope, receive, sender)\n",
      "  File \"C:\\Python\\lib\\site-packages\\fastapi\\middleware\\asyncexitstack.py\", line 21, in __call__\n",
      "    raise e\n",
      "  File \"C:\\Python\\lib\\site-packages\\fastapi\\middleware\\asyncexitstack.py\", line 18, in __call__\n",
      "    await self.app(scope, receive, send)\n",
      "  File \"C:\\Python\\lib\\site-packages\\starlette\\routing.py\", line 670, in __call__\n",
      "    await route.handle(scope, receive, send)\n",
      "  File \"C:\\Python\\lib\\site-packages\\starlette\\routing.py\", line 266, in handle\n",
      "    await self.app(scope, receive, send)\n",
      "  File \"C:\\Python\\lib\\site-packages\\starlette\\routing.py\", line 65, in app\n",
      "    response = await func(request)\n",
      "  File \"C:\\Python\\lib\\site-packages\\fastapi\\routing.py\", line 231, in app\n",
      "    raw_response = await run_endpoint_function(\n",
      "  File \"C:\\Python\\lib\\site-packages\\fastapi\\routing.py\", line 160, in run_endpoint_function\n",
      "    return await dependant.call(**values)\n",
      "  File \"C:\\Users\\Bilal Ansar\\AppData\\Local\\Temp\\ipykernel_15580\\3422742155.py\", line 15, in predict_api\n",
      "    prediction = predict(image)\n",
      "  File \"C:\\Users\\Bilal Ansar\\AppData\\Local\\Temp\\ipykernel_15580\\1783093065.py\", line 2, in predict\n",
      "    img = cv.imread(img)\n",
      "TypeError: Can't convert object to 'str' for 'filename'\n"
     ]
    }
   ],
   "source": [
    "import uvicorn\n",
    "from fastapi import FastAPI, File, UploadFile\n",
    "import nest_asyncio\n",
    "\n",
    "\n",
    "\n",
    "app = FastAPI()\n",
    "\n",
    "@app.post(\"/predicti\")\n",
    "async def predict_api(file: UploadFile = File(...)):\n",
    "    extension = file.filename.split(\".\")[-1] in (\"jpg\", \"jpeg\", \"png\")\n",
    "    if not extension:\n",
    "        return \"Image must be jpg or png format!\"\n",
    "    image = read_imagefile(await file.read())\n",
    "    prediction = predict(image)\n",
    "\n",
    "    return prediction\n",
    "\n",
    "\n",
    "if __name__ == \"__main__\":\n",
    "#     uvicorn.run(  app, debug=True)\n",
    "\n",
    "    nest_asyncio.apply()\n",
    "    uvicorn.run(app, port=8000)\n",
    "  "
   ]
  },
  {
   "cell_type": "code",
   "execution_count": 20,
   "id": "6000f794",
   "metadata": {},
   "outputs": [],
   "source": [
    "model = tf.keras.models.load_model('test/Digit 1.0v.h5')"
   ]
  },
  {
   "cell_type": "code",
   "execution_count": 23,
   "id": "836cab91",
   "metadata": {},
   "outputs": [
    {
     "name": "stdout",
     "output_type": "stream",
     "text": [
      "1/1 [==============================] - 0s 59ms/step\n",
      "[[0.         0.23739909 0.         0.         0.76260084 0.\n",
      "  0.         0.         0.         0.        ]]\n"
     ]
    }
   ],
   "source": [
    "import numpy as np\n",
    "from tensorflow.keras.preprocessing import image\n",
    "test_image=image.load_img('test/1.jpg',\n",
    "                         target_size = (28,28))\n",
    "test_image=image.img_to_array(test_image)\n",
    "test_image=np.expand_dims(test_image, axis=0)\n",
    "result=model.predict(test_image)\n",
    "#      0 ,6 ,7 ,4\n",
    "print(result)\n"
   ]
  },
  {
   "cell_type": "code",
   "execution_count": 24,
   "id": "18798a1c",
   "metadata": {},
   "outputs": [
    {
     "ename": "IndexError",
     "evalue": "index 0 is out of bounds for axis 0 with size 0",
     "output_type": "error",
     "traceback": [
      "\u001b[1;31m---------------------------------------------------------------------------\u001b[0m",
      "\u001b[1;31mIndexError\u001b[0m                                Traceback (most recent call last)",
      "Input \u001b[1;32mIn [24]\u001b[0m, in \u001b[0;36m<cell line: 2>\u001b[1;34m()\u001b[0m\n\u001b[0;32m      1\u001b[0m n\u001b[38;5;241m=\u001b[39mnp\u001b[38;5;241m.\u001b[39mwhere(result\u001b[38;5;241m==\u001b[39m\u001b[38;5;241m1.0\u001b[39m)\n\u001b[1;32m----> 2\u001b[0m \u001b[38;5;28mprint\u001b[39m(\u001b[38;5;124m'\u001b[39m\u001b[38;5;124mDetected number :\u001b[39m\u001b[38;5;124m'\u001b[39m,\u001b[43mn\u001b[49m\u001b[43m[\u001b[49m\u001b[38;5;241;43m1\u001b[39;49m\u001b[43m]\u001b[49m\u001b[43m[\u001b[49m\u001b[38;5;241;43m0\u001b[39;49m\u001b[43m]\u001b[49m)\n",
      "\u001b[1;31mIndexError\u001b[0m: index 0 is out of bounds for axis 0 with size 0"
     ]
    }
   ],
   "source": [
    "result\n",
    "\n",
    "n=np.where(result==1.0)\n",
    "print('Detected number :',n[1][0])"
   ]
  },
  {
   "cell_type": "code",
   "execution_count": null,
   "id": "f24a38a9",
   "metadata": {},
   "outputs": [],
   "source": [
    " processed_img=preproces(img)\n",
    "    imgr=cv.resize(processed_img,(28,28))\n",
    "    pred_image=np.expand_dims(imgr,axis=0)\n",
    "    result=s_model.predict(pred_image)\n",
    "    # n=np.where(result==1.0)\n",
    "    pred=np.argmax(result)\n",
    "    \n",
    "    \n",
    "def preproces(img):\n",
    "    imgo=cv.cvtColor(img,cv.COLOR_BGR2RGB)\n",
    "    imgg=cv.cvtColor(imgo,cv.COLOR_BGR2GRAY)\n",
    "    (thresh, bwimg) = cv.threshold(imgg, 127, 255, cv.THRESH_BINARY)\n",
    "    img_bgr = cv.cvtColor(bwimg, cv.COLOR_GRAY2BGR)\n",
    "    invert = cv.bitwise_not(img_bgr)\n",
    "    return invert"
   ]
  },
  {
   "cell_type": "code",
   "execution_count": 26,
   "id": "f14a0b17",
   "metadata": {},
   "outputs": [],
   "source": [
    "import numpy as np\n",
    "from tensorflow.keras.preprocessing import image\n",
    "import cv2 as cv"
   ]
  },
  {
   "cell_type": "code",
   "execution_count": 59,
   "id": "ba56feb6",
   "metadata": {},
   "outputs": [
    {
     "name": "stdout",
     "output_type": "stream",
     "text": [
      "1/1 [==============================] - 0s 57ms/step\n"
     ]
    },
    {
     "data": {
      "text/plain": [
       "'3'"
      ]
     },
     "execution_count": 59,
     "metadata": {},
     "output_type": "execute_result"
    }
   ],
   "source": [
    "\n",
    "\n",
    "def predict(img: Image.Image):\n",
    "    img = cv.imread(img)\n",
    "    \n",
    "    imgo=cv.cvtColor(img,cv.COLOR_BGR2RGB)\n",
    "    imgg=cv.cvtColor(imgo,cv.COLOR_BGR2GRAY)\n",
    "    (thresh, bwimg) = cv.threshold(imgg, 127, 255, cv.THRESH_BINARY)\n",
    "    img_bgr = cv.cvtColor(bwimg, cv.COLOR_GRAY2BGR)\n",
    "    invert = cv.bitwise_not(img_bgr)\n",
    "    \n",
    "    imgr=cv.resize(invert,(28,28))\n",
    "    pred_image=np.expand_dims(imgr,axis=0)\n",
    "    result=model.predict(pred_image)\n",
    "    # n=np.where(result==1.0)\n",
    "    pred=np.argmax(result)\n",
    "    return str(pred)\n",
    "\n",
    "   \n",
    "predict(\"test/0.jpg\")\n",
    "                              \n",
    "# p=predict(\"D:\\\\# DEEP Learning\\\\CNN\\\\test\\\\1.jpg\")\n",
    "# type(p)\n",
    "# # type(str(p))"
   ]
  },
  {
   "cell_type": "code",
   "execution_count": null,
   "id": "86be3a7a",
   "metadata": {},
   "outputs": [],
   "source": []
  },
  {
   "cell_type": "code",
   "execution_count": null,
   "id": "c1f898aa",
   "metadata": {},
   "outputs": [],
   "source": []
  }
 ],
 "metadata": {
  "kernelspec": {
   "display_name": "Python 3 (ipykernel)",
   "language": "python",
   "name": "python3"
  },
  "language_info": {
   "codemirror_mode": {
    "name": "ipython",
    "version": 3
   },
   "file_extension": ".py",
   "mimetype": "text/x-python",
   "name": "python",
   "nbconvert_exporter": "python",
   "pygments_lexer": "ipython3",
   "version": "3.9.13"
  }
 },
 "nbformat": 4,
 "nbformat_minor": 5
}
